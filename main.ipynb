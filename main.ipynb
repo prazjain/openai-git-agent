{
 "cells": [
  {
   "cell_type": "code",
   "execution_count": null,
   "metadata": {},
   "outputs": [],
   "source": [
    "%pip install openai openai-agents python-dotenv pydantic GitPython PyGithub"
   ]
  },
  {
   "cell_type": "code",
   "execution_count": null,
   "metadata": {},
   "outputs": [],
   "source": [
    "from git import Repo\n",
    "from github import Github\n",
    "from pydantic import BaseModel, Field\n",
    "import asyncio\n",
    "from dataclasses import dataclass\n",
    "import os\n",
    "from dotenv import load_dotenv\n",
    "\n"
   ]
  },
  {
   "cell_type": "code",
   "execution_count": 7,
   "metadata": {},
   "outputs": [],
   "source": [
    "load_dotenv()\n",
    "github_token = os.getenv(\"GITHUB_TOKEN\")\n",
    "openai_key = os.getenv(\"OPENAI_API_KEY\")\n",
    "project_dir = os.getcwd()"
   ]
  },
  {
   "cell_type": "code",
   "execution_count": 4,
   "metadata": {},
   "outputs": [],
   "source": [
    "@dataclass\n",
    "class CodeSolution(BaseModel):\n",
    "    \"\"\"Schema for code solution\"\"\"\n",
    "    code: str = Field(..., title=\"Code solution\")\n",
    "    description: str = Field(..., title=\"Description of the code solution\")"
   ]
  },
  {
   "cell_type": "code",
   "execution_count": 5,
   "metadata": {},
   "outputs": [],
   "source": [
    "@dataclass\n",
    "class CodeFeedback(BaseModel):\n",
    "    feedback: str = Field(..., title=\"Feedback on code solution\")\n",
    "    refine_further: bool = Field(..., title=\"Flag to determine if code solution needs further refinement\")"
   ]
  },
  {
   "cell_type": "code",
   "execution_count": 6,
   "metadata": {},
   "outputs": [],
   "source": [
    "from agents import Agent, InputGuardrail,GuardrailFunctionOutput, Runner, ItemHelpers, TResponseInputItem, trace\n",
    "from pydantic import BaseModel\n",
    "import asyncio\n",
    "\n",
    "python_coder_agent = Agent(\n",
    "    model=\"o3-mini\",\n",
    "    name=\"Coder\",\n",
    "    handoff_description=\"Specialist agent for writing python code and test cases\",\n",
    "    instructions=\"You are a expert software engineer coding in python, who follows best practices and writes testable code. Write code based on task description by user.\",\n",
    "    output_type=CodeSolution,\n",
    ")\n",
    "reviewer_agent = Agent(\n",
    "    model=\"o3-mini\",\n",
    "    name=\"Reviewer\",\n",
    "    handoff_description=\"Specialist agent for reviewing python code, ensures that code is well written and follows best practices\",\n",
    "    instructions=\"You are a expert code reviewer that reviews code in python. Validate that code is fully implemented, it follows user requirement, and provides feedback for correction and improvement.\",\n",
    "    output_type=CodeFeedback,\n",
    ")"
   ]
  },
  {
   "cell_type": "code",
   "execution_count": null,
   "metadata": {},
   "outputs": [],
   "source": [
    "def clone_repo(github_token: str, repo_url: str, repo_dir: str='') -> tuple[str, str]:\n",
    "    \"\"\"Clone a repo from github\"\"\"\n",
    "    try:\n",
    "        if not repo_dir:\n",
    "            #script_dir = os.path.dirname(os.path.abspath(notebook_path))\n",
    "            #repo_dir = os.path.join(script_dir, 'agent-task')\n",
    "            repo_dir = os.path.join(project_dir, 'agent-task')\n",
    "\n",
    "        if os.path.exists(repo_dir):\n",
    "            print(f\"A repo already exists at {repo_dir}, deleting it before cloning...\")\n",
    "            os.system(f\"rm -rf {repo_dir}\")\n",
    "\n",
    "        print('before init github')\n",
    "        g = Github(github_token)\n",
    "        print('after init github')\n",
    "        py_repo = g.get_repo(repo_url)\n",
    "        py_branch = py_repo.get_branch('python/genai-agent-task')\n",
    "        print('after get repo')\n",
    "        print('Repo name : ' , py_repo.name)\n",
    "        print('Repo url : ' , py_repo.url)\n",
    "        print('Repo clone url : ' , py_repo.clone_url)\n",
    "        local_repo = Repo.clone_from(py_repo.clone_url, repo_dir)\n",
    "        #switch to the branch python/genai-agent-task\n",
    "        local_repo.git.checkout(py_branch.commit.sha)\n",
    "        print('after clone')\n",
    "        return repo_dir, \"\"\n",
    "    except Exception as e:\n",
    "        return \"\", f\"Repository setup failed: {str(e)}\"\n",
    "\n"
   ]
  },
  {
   "cell_type": "code",
   "execution_count": null,
   "metadata": {},
   "outputs": [],
   "source": [
    "result = clone_repo(github_token, 'prazjain/genai-scratch-repo')\n",
    "print(result)"
   ]
  },
  {
   "cell_type": "code",
   "execution_count": null,
   "metadata": {},
   "outputs": [],
   "source": [
    "def read_task_file(repo_dir: str) -> tuple[str, str]:\n",
    "    \"\"\"Read the task markdown file.\"\"\"\n",
    "    try:\n",
    "        #task_path = os.path.join(repo_dir, 'tasks', 'task.md')\n",
    "        task_path = os.path.join(repo_dir, 'task.md')\n",
    "        with open(task_path, 'r') as f:\n",
    "            return f.read(), \"\"\n",
    "    except Exception as e:\n",
    "        return \"\", f\"Failed to read task: {str(e)}\""
   ]
  },
  {
   "cell_type": "code",
   "execution_count": null,
   "metadata": {},
   "outputs": [],
   "source": [
    "repo_dir = result[0]\n",
    "task_content, error = read_task_file(repo_dir)\n",
    "print(task_content)\n",
    "print(error)"
   ]
  },
  {
   "cell_type": "code",
   "execution_count": 8,
   "metadata": {},
   "outputs": [],
   "source": [
    "async def generate_solution() -> CodeSolution:\n",
    "    \"\"\"Generate code solution based on task description.\"\"\"\n",
    "\n",
    "    max_iterations = 3\n",
    "\n",
    "    coder_convo_history = []\n",
    "    reviewer_convo_history = []\n",
    "\n",
    "    coder_convo_history.append({\"role\": \"user\", \n",
    "                                \"content\": task_content })\n",
    "    reviewer_convo_history.append({\"role\": \"user\",\n",
    "                                   \"content\": f\"Task description : \\n{task_content}\",\n",
    "                             })\n",
    "    print(\"Generating code ...\")\n",
    "    code_solution = await Runner.run(python_coder_agent, coder_convo_history)\n",
    "    #.final_output_as(CodeSolution)\n",
    "    print(\"Generated code.\")\n",
    "    for i in range(1, max_iterations+1):\n",
    "        print(f\"Iteration {i} of feedback..\")\n",
    "        reviewer_convo_history.append({\"role\": \"user\",\n",
    "                                       \"content\": f\"Please provide feedback on code solution {i} : \\n{code_solution.final_output.code} \",\n",
    "                                 })\n",
    "        code_feedback = await Runner.run(reviewer_agent, reviewer_convo_history)\n",
    "        #.final_output_as(CodeFeedback)\n",
    "        print(\"Received feedback\")\n",
    "        if code_feedback.final_output.refine_further:\n",
    "            print(\"Need further refinement.\")\n",
    "            coder_convo_history.append({\"role\": \"user\",\n",
    "                                        \"content\": f\"Please improve the code based on feedback : \\n{code_feedback.final_output.feedback} \"})\n",
    "            print(\"Refining code ...\")\n",
    "            code_solution = await Runner.run(python_coder_agent, coder_convo_history)\n",
    "            #.final_output_as(CodeSolution)\n",
    "            print(\"Refined code.\")\n",
    "        else:\n",
    "            print(\"Don't need further refinement.\")\n",
    "            break\n",
    "    return code_solution"
   ]
  },
  {
   "cell_type": "code",
   "execution_count": null,
   "metadata": {},
   "outputs": [],
   "source": [
    "sol = await generate_solution()\n",
    "print(\"---\" * 50)\n",
    "print(sol)\n",
    "print(\"---\" * 50)\n",
    "print(sol.final_output.code)"
   ]
  },
  {
   "cell_type": "code",
   "execution_count": null,
   "metadata": {},
   "outputs": [],
   "source": [
    "def create_pr(solution: CodeSolution, branch, iterations) -> bool:\n",
    "    \"\"\"Create a pull request\"\"\"\n",
    "    try:\n",
    "        print('Creating PR ...')\n",
    "        print('Solution : ', solution)\n",
    "        sol = solution.code\n",
    "        print(sol)\n",
    "        repo = Repo(repo_dir)\n",
    "        print('Repo : ', repo)\n",
    "        print(repo.git.status())\n",
    "        print(repo.git.branch())\n",
    "\n",
    "        # Local git operations\n",
    "        branch_name = f\"{branch}-agent-solution-{iterations}\"\n",
    "        current = repo.create_head(branch_name)\n",
    "        current.checkout()\n",
    "        with open(os.path.join(repo_dir, 'solution.py'), 'w') as f:\n",
    "            f.write(sol)\n",
    "        repo.index.add(['solution.py'])\n",
    "        repo.index.commit(\"Agent solution\")\n",
    "        repo.git.push('origin', branch_name)\n",
    "\n",
    "        # remote git \n",
    "        g = Github(github_token)\n",
    "        py_repo = g.get_repo('prazjain/genai-scratch-repo')\n",
    "\n",
    "        # Github operations to create PR\n",
    "        pr = py_repo.create_pull(\n",
    "            title=\"Add Array Products Calculator\",\n",
    "            body=f\"Implements array products calculator with the following approach:\\n\\n{solution.description}\",\n",
    "            base=branch,\n",
    "            head=branch_name\n",
    "        )\n",
    "        print(f\"Created PR: {pr.html_url}\")\n",
    "        return True\n",
    "    except Exception as e:\n",
    "        return False"
   ]
  },
  {
   "cell_type": "code",
   "execution_count": null,
   "metadata": {},
   "outputs": [],
   "source": [
    "status = create_pr(sol.final_output, 'python/genai-agent-task', 1)\n",
    "print(status)"
   ]
  }
 ],
 "metadata": {
  "kernelspec": {
   "display_name": "venv",
   "language": "python",
   "name": "python3"
  },
  "language_info": {
   "codemirror_mode": {
    "name": "ipython",
    "version": 3
   },
   "file_extension": ".py",
   "mimetype": "text/x-python",
   "name": "python",
   "nbconvert_exporter": "python",
   "pygments_lexer": "ipython3",
   "version": "3.11.9"
  }
 },
 "nbformat": 4,
 "nbformat_minor": 2
}
