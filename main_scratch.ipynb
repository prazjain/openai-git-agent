{
 "cells": [
  {
   "cell_type": "markdown",
   "metadata": {},
   "source": [
    "Experimental space"
   ]
  },
  {
   "cell_type": "code",
   "execution_count": null,
   "metadata": {},
   "outputs": [],
   "source": [
    "%pip install openai openai-agents python-dotenv pydantic GitPython PyGithub"
   ]
  },
  {
   "cell_type": "code",
   "execution_count": 1,
   "metadata": {},
   "outputs": [],
   "source": [
    "from git import Repo\n",
    "from github import Github\n",
    "from pydantic import BaseModel, Field\n",
    "import asyncio\n",
    "from dataclasses import dataclass\n",
    "import os\n",
    "from dotenv import load_dotenv\n",
    "\n",
    "load_dotenv()\n",
    "github_token = os.getenv(\"GITHUB_TOKEN\")\n",
    "openai_key = os.getenv(\"OPENAI_API_KEY\")"
   ]
  },
  {
   "cell_type": "code",
   "execution_count": 2,
   "metadata": {},
   "outputs": [
    {
     "name": "stdout",
     "output_type": "stream",
     "text": [
      "/Users/Prashant/LOCAL/Data/github/python/openai-git-agent\n"
     ]
    }
   ],
   "source": [
    "notebook_path = os.getcwd()\n",
    "print(notebook_path)\n"
   ]
  },
  {
   "cell_type": "code",
   "execution_count": null,
   "metadata": {},
   "outputs": [],
   "source": [
    "@dataclass\n",
    "class CodeTask(BaseModel):\n",
    "    \"\"\"Schema for code solution\"\"\"\n",
    "    code: str = Field(..., title=\"Code solution\")\n",
    "    task_description: str = Field(..., title=\"Description of task\")"
   ]
  },
  {
   "cell_type": "code",
   "execution_count": 3,
   "metadata": {},
   "outputs": [],
   "source": [
    "@dataclass\n",
    "class CodeSolution(BaseModel):\n",
    "    \"\"\"Schema for code solution\"\"\"\n",
    "    code: str = Field(..., title=\"Code solution\")\n",
    "    description: str = Field(..., title=\"Description of the code solution\")"
   ]
  },
  {
   "cell_type": "code",
   "execution_count": 38,
   "metadata": {},
   "outputs": [],
   "source": [
    "@dataclass\n",
    "class AgentTaskData(BaseModel):\n",
    "    task_content: str = Field(..., title=\"Description of task to be performed\")\n",
    "    repo_dir: str = Field(..., title=\"Repository directory\")\n",
    "    generation: CodeSolution | None = Field(..., title=\"Code solution\")\n",
    "    iterations: int = Field(..., title=\"Number of iterations\")\n",
    "    status: bool = Field(..., title=\"Status of the task\")\n"
   ]
  },
  {
   "cell_type": "code",
   "execution_count": 4,
   "metadata": {},
   "outputs": [],
   "source": [
    "@dataclass\n",
    "class CodeFeedback(BaseModel):\n",
    "    feedback: str = Field(..., title=\"Feedback on code solution\")\n",
    "    refine_further: bool = Field(..., title=\"Flag to determine if code solution needs further refinement\")"
   ]
  },
  {
   "cell_type": "code",
   "execution_count": 5,
   "metadata": {},
   "outputs": [],
   "source": [
    "from agents import Agent, InputGuardrail,GuardrailFunctionOutput, Runner, ItemHelpers, TResponseInputItem, trace\n",
    "from pydantic import BaseModel\n",
    "import asyncio\n",
    "\n",
    "python_coder_agent = Agent(\n",
    "    model=\"o3-mini\",\n",
    "    name=\"Coder\",\n",
    "    handoff_description=\"Specialist agent for writing python code and test cases\",\n",
    "    instructions=\"You are a expert software engineer coding in python, who follows best practices and writes testable code. Write code based on task description by user.\",\n",
    "    output_type=CodeSolution,\n",
    ")\n",
    "reviewer_agent = Agent(\n",
    "    model=\"o3-mini\",\n",
    "    name=\"Reviewer\",\n",
    "    handoff_description=\"Specialist agent for reviewing python code, ensures that code is well written and follows best practices\",\n",
    "    instructions=\"You are a expert code reviewer that reviews code in python. Validate that code is fully implemented, it follows user requirement, and provides feedback for correction and improvement.\",\n",
    "    output_type=CodeFeedback,\n",
    ")"
   ]
  },
  {
   "cell_type": "code",
   "execution_count": null,
   "metadata": {},
   "outputs": [
    {
     "name": "stdout",
     "output_type": "stream",
     "text": [
      "aws-code-pipeline-spring-hello\n",
      "Blockchain_hackathon\n",
      "cassandra-developers\n",
      "CKAD-Practice-Questions\n",
      "coding-challenges\n",
      "conductor\n",
      "ContextFreeGrammarNLP\n",
      "docker-kubernetes\n",
      "docker-netflix-conductor\n",
      "file-reader-writer-maven-plugin\n",
      "food-funda-spring-cloud-functions\n",
      "genai-scratch-repo\n",
      "git_repo\n",
      "interview-guide\n",
      "intuit-council-service\n",
      "java-gpt4o-hello\n",
      "java-spring-symphony-bot\n",
      "java8lambda\n",
      "kafka-trending-news\n",
      "MITMissedSemester\n",
      "ml-regression-models\n",
      "mlops-zenml-customer-satisfaction-prediction\n",
      "money-transfer-service\n",
      "openai-llmagent-diet-plan\n",
      "openrewrite-custom-mvn-profile\n",
      "prazjain\n",
      "py-dev-tools\n",
      "python-cheat-sheet\n",
      "python-dockerized-server\n",
      "python-flask-rest-api\n",
      "python-mlflow-basics\n",
      "python-multiple-pdf-chat\n",
      "python-NLP-ML\n",
      "python-zenml-intro\n",
      "qs-java-boot-junit-cucumber\n",
      "rasa-hello-bot\n",
      "searchengine\n",
      "siri-search-service\n",
      "sonar-java-detect-annotation\n",
      "spring-boot-swagger\n",
      "spring-cloud-coordinating-services\n",
      "springboot-docker-k8s\n",
      "springboot-kafka-docker\n",
      "springboot-prometheus-grafana\n",
      "streamlit-calculator-app\n",
      "terraform-aws-deployment\n",
      "tf-handwriting-recog\n",
      "tfl-rest-client\n",
      "threads\n",
      "words-rhyming\n",
      "zopa-loan-lender-service\n",
      "blockchain-hackathon-2018\n"
     ]
    }
   ],
   "source": [
    "from github import Github\n",
    "g = Github(github_token)\n",
    "for local_repo in g.get_user().get_repos():\n",
    "    print(local_repo.name)"
   ]
  },
  {
   "cell_type": "code",
   "execution_count": 25,
   "metadata": {},
   "outputs": [
    {
     "name": "stdout",
     "output_type": "stream",
     "text": [
      "before init github\n",
      "after init github\n"
     ]
    }
   ],
   "source": [
    "print('before init github')\n",
    "g = Github(github_token)\n",
    "print('after init github')\n",
    "py_repo = g.get_repo('prazjain/genai-scratch-repo')"
   ]
  },
  {
   "cell_type": "code",
   "execution_count": 42,
   "metadata": {},
   "outputs": [
    {
     "name": "stdout",
     "output_type": "stream",
     "text": [
      "after get repo\n",
      "Repo name :  genai-scratch-repo\n",
      "Repo url :  https://api.github.com/repos/prazjain/genai-scratch-repo\n",
      "Repo clone url :  https://github.com/prazjain/genai-scratch-repo.git\n",
      "Default branch :  main\n",
      "Branch name :  python/genai-agent-task\n",
      "Branch commit sha :  d0896c989a7f04d63d8ebd8f1675da649f5b482d\n",
      "Branch commit url :  https://api.github.com/repos/prazjain/genai-scratch-repo/commits/d0896c989a7f04d63d8ebd8f1675da649f5b482d\n"
     ]
    }
   ],
   "source": [
    "py_branch = py_repo.get_branch('python/genai-agent-task')\n",
    "print('after get repo')\n",
    "print('Repo name : ' , py_repo.name)\n",
    "print('Repo url : ' , py_repo.url)\n",
    "print('Repo clone url : ' , py_repo.clone_url)\n",
    "print('Default branch : ' , py_repo.default_branch)\n",
    "print('Branch name : ' , py_branch.name)\n",
    "print('Branch commit sha : ' , py_branch.commit.sha)\n",
    "print('Branch commit url : ' , py_branch.commit.url)"
   ]
  },
  {
   "cell_type": "code",
   "execution_count": 31,
   "metadata": {},
   "outputs": [
    {
     "name": "stdout",
     "output_type": "stream",
     "text": [
      "Repo clone url :  https://github.com/prazjain/genai-scratch-repo.git\n"
     ]
    }
   ],
   "source": [
    "print('Repo clone url : ' , py_repo.clone_url)\n",
    "repo_dir = os.path.join(notebook_path, 'agent-task')\n",
    "local_repo = Repo.clone_from(py_repo.clone_url, repo_dir, branch='python/genai-agent-task')\n"
   ]
  },
  {
   "cell_type": "code",
   "execution_count": 32,
   "metadata": {},
   "outputs": [
    {
     "name": "stdout",
     "output_type": "stream",
     "text": [
      "after clone repo\n",
      "On branch python/genai-agent-task\n",
      "Your branch is up to date with 'origin/python/genai-agent-task'.\n",
      "\n",
      "nothing to commit, working tree clean\n",
      "* python/genai-agent-task\n"
     ]
    }
   ],
   "source": [
    "#switch to the branch python/genai-agent-task\n",
    "#local_repo.git.checkout(py_branch.name)\n",
    "print('after clone repo')\n",
    "#print(local_repo)\n",
    "print(local_repo.git.status())\n",
    "print(local_repo.git.branch())\n",
    "#print(local_repo.git.log())"
   ]
  },
  {
   "cell_type": "code",
   "execution_count": 6,
   "metadata": {},
   "outputs": [],
   "source": [
    "def clone_repo(github_token: str, repo_url: str, repo_dir: str='') -> tuple[str, str]:\n",
    "    \"\"\"Clone a repo from github\"\"\"\n",
    "    try:\n",
    "        if not repo_dir:\n",
    "            #script_dir = os.path.dirname(os.path.abspath(notebook_path))\n",
    "            #repo_dir = os.path.join(script_dir, 'agent-task')\n",
    "            repo_dir = os.path.join(notebook_path, 'agent-task')\n",
    "\n",
    "        if os.path.exists(repo_dir):\n",
    "            print(f\"A repo already exists at {repo_dir}, deleting it before cloning...\")\n",
    "            os.system(f\"rm -rf {repo_dir}\")\n",
    "\n",
    "        print('before init github')\n",
    "        g = Github(github_token)\n",
    "        print('after init github')\n",
    "        py_repo = g.get_repo(repo_url)\n",
    "        py_branch = py_repo.get_branch('python/genai-agent-task')\n",
    "        print('after get repo')\n",
    "        print('Repo name : ' , py_repo.name)\n",
    "        print('Repo url : ' , py_repo.url)\n",
    "        print('Repo clone url : ' , py_repo.clone_url)\n",
    "        local_repo = Repo.clone_from(py_repo.clone_url, repo_dir)\n",
    "        #switch to the branch python/genai-agent-task\n",
    "        local_repo.git.checkout(py_branch.commit.sha)\n",
    "        print('after clone')\n",
    "        return repo_dir, \"\"\n",
    "    except Exception as e:\n",
    "        return \"\", f\"Repository setup failed: {str(e)}\"\n",
    "\n"
   ]
  },
  {
   "cell_type": "code",
   "execution_count": 27,
   "metadata": {},
   "outputs": [
    {
     "name": "stdout",
     "output_type": "stream",
     "text": [
      "before init github\n",
      "after init github\n",
      "after get repo\n",
      "Repo name :  genai-scratch-repo\n",
      "Repo url :  https://api.github.com/repos/prazjain/genai-scratch-repo\n",
      "Repo clone url :  https://github.com/prazjain/genai-scratch-repo.git\n",
      "after clone\n",
      "('/Users/Prashant/LOCAL/Data/github/python/openai-git-agent/agent-task', '')\n"
     ]
    }
   ],
   "source": [
    "#result = clone_repo(github_token, 'https://github.com/prazjain/genai-scratch-repo')\n",
    "result = clone_repo(github_token, 'prazjain/genai-scratch-repo')\n",
    "print(result)"
   ]
  },
  {
   "cell_type": "code",
   "execution_count": 8,
   "metadata": {},
   "outputs": [],
   "source": [
    "def read_task_file(repo_dir: str) -> tuple[str, str]:\n",
    "    \"\"\"Read the task markdown file.\"\"\"\n",
    "    try:\n",
    "        #task_path = os.path.join(repo_dir, 'tasks', 'task.md')\n",
    "        task_path = os.path.join(repo_dir, 'task.md')\n",
    "        with open(task_path, 'r') as f:\n",
    "            return f.read(), \"\"\n",
    "    except Exception as e:\n",
    "        return \"\", f\"Failed to read task: {str(e)}\""
   ]
  },
  {
   "cell_type": "code",
   "execution_count": 17,
   "metadata": {},
   "outputs": [
    {
     "name": "stdout",
     "output_type": "stream",
     "text": [
      "## Array Product Calculator  \n",
      "\n",
      "### Problem Description  \n",
      "\n",
      "Create a function that takes a list of integers and returns a new list where each element at position i is the product of all original numbers except the one at position i.  \n",
      "\n",
      "### Requirements  \n",
      "* Function name shoud be `calculate_products`  \n",
      "* Input: List of integers  \n",
      "* Output: List of integers  \n",
      "* Handle empty list and single element list cases  \n",
      "* Handle lists with zeros\n",
      "* File name should be `array_products.py`\n",
      "\n",
      "  ### Examples\n",
      "  Input: [1, 2, 3, 4]\n",
      "  Output: [24, 12, 8, 6]\n",
      "\n",
      "  Input: [1, 0, 3, 4]\n",
      "  Output: [0, 12, 0, 0]\n",
      "\n",
      "\n",
      "  ### Acceptance Criteria\n",
      "  * Must include type hints\n",
      "  * Must include docstring with examples\n",
      "  * Must include error handling for invalid inputs\n",
      "  \n",
      "\n",
      "\n"
     ]
    }
   ],
   "source": [
    "repo_dir = result[0]\n",
    "task_content, error = read_task_file(repo_dir)\n",
    "print(task_content)\n",
    "print(error)"
   ]
  },
  {
   "cell_type": "code",
   "execution_count": 15,
   "metadata": {},
   "outputs": [],
   "source": [
    "async def generate_solution() -> CodeSolution:\n",
    "    \"\"\"Generate code solution based on task description.\"\"\"\n",
    "\n",
    "    max_iterations = 3\n",
    "\n",
    "    coder_convo_history = []\n",
    "    reviewer_convo_history = []\n",
    "\n",
    "    coder_convo_history.append({\"role\": \"user\", \n",
    "                                \"content\": task_content })\n",
    "    reviewer_convo_history.append({\"role\": \"user\",\n",
    "                                   \"content\": f\"Task description : \\n{task_content}\",\n",
    "                             })\n",
    "    print(\"Generating code ...\")\n",
    "    code_solution = await Runner.run(python_coder_agent, coder_convo_history)\n",
    "    #.final_output_as(CodeSolution)\n",
    "    print(\"Generated code.\")\n",
    "    #print('Lets check code final output ...')\n",
    "    #print(code_solution.final_output.code)\n",
    "    #print(code_solution.final_output.description)\n",
    "    #print(code_solution.code)\n",
    "    for i in range(1, max_iterations+1):\n",
    "        print(f\"Iteration {i} of feedback..\")\n",
    "        reviewer_convo_history.append({\"role\": \"user\",\n",
    "                                       \"content\": f\"Please provide feedback on code solution {i} : \\n{code_solution.final_output.code} \",\n",
    "                                 })\n",
    "        code_feedback = await Runner.run(reviewer_agent, reviewer_convo_history)\n",
    "        #.final_output_as(CodeFeedback)\n",
    "        print(\"Received feedback\")\n",
    "        if code_feedback.final_output.refine_further:\n",
    "            print(\"Need further refinement.\")\n",
    "            coder_convo_history.append({\"role\": \"user\",\n",
    "                                        \"content\": f\"Please improve the code based on feedback : \\n{code_feedback.final_output.feedback} \"})\n",
    "            print(\"Refining code ...\")\n",
    "            code_solution = await Runner.run(python_coder_agent, coder_convo_history)\n",
    "            #.final_output_as(CodeSolution)\n",
    "            print(\"Refined code.\")\n",
    "        else:\n",
    "            print(\"Don't need further refinement.\")\n",
    "            break\n",
    "    return code_solution\n"
   ]
  },
  {
   "cell_type": "code",
   "execution_count": 18,
   "metadata": {},
   "outputs": [
    {
     "name": "stdout",
     "output_type": "stream",
     "text": [
      "Generating code ...\n",
      "Generated code.\n",
      "Iteration 1 of feedback..\n",
      "Received feedback\n",
      "Don't need further refinement.\n",
      "------------------------------------------------------------------------------------------------------------------------------------------------------\n",
      "RunResult:\n",
      "- Last agent: Agent(name=\"Coder\", ...)\n",
      "- Final output (CodeSolution):\n",
      "    {\n",
      "      \"code\": \"from typing import List\\n\\n\\ndef calculate_products(numbers: List[int]) -> List[int]:\\n    \\\"\\\"\\\"\\n    Given a list of integers, return a new list such that each element at index i is\\n    the product of all numbers in the original list except the one at i.\\n\\n    Examples:\\n    >>> calculate_products([1, 2, 3, 4])\\n    [24, 12, 8, 6]\\n\\n    >>> calculate_products([1, 0, 3, 4])\\n    [0, 12, 0, 0]\\n\\n    >>> calculate_products([])\\n    []\\n\\n    >>> calculate_products([5])\\n    [1]\\n    \\n    Args:\\n        numbers (List[int]): List of integers.\\n\\n    Returns:\\n        List[int]: A list where each element is the product of all numbers except the current index.\\n\\n    Raises:\\n        TypeError: If input is not a list or if any element is not an integer.\\n    \\\"\\\"\\\"\\n    # Validate input\\n    if not isinstance(numbers, list):\\n        raise TypeError('Input must be a list of integers.')\\n    \\n    for num in numbers:\\n        if not isinstance(num, int):\\n            raise TypeError('All elements in the input list must be integers.')\\n\\n    n = len(numbers)\\n    # For an empty list, simply return an empty list\\n    if n == 0:\\n        return []\\n\\n    # For a single element list, product of an empty set is defined as 1.\\n    if n == 1:\\n        return [1]\\n\\n    # Count zeros in the list\\n    zero_count = numbers.count(0)\\n\\n    # If there are more than one zero, every product will be zero\\n    if zero_count > 1:\\n        return [0] * n\\n\\n    # If there is exactly one zero, compute product of non-zero numbers\\n    if zero_count == 1:\\n        product_non_zero = 1\\n        for num in numbers:\\n            if num != 0:\\n                product_non_zero *= num\\n        return [product_non_zero if num == 0 else 0 for num in numbers]\\n\\n    # If there are no zeros, compute the total product and then the result by dividing\\n    total_product = 1\\n    for num in numbers:\\n        total_product *= num\\n\\n    # It is safe to use integer division because there is no zero element\\n    return [total_product // num for num in numbers]\\n\\n\\nif __name__ == '__main__':\\n    # Some basic tests\\n    test_cases = [\\n        ([1, 2, 3, 4], [24, 12, 8, 6]),\\n        ([1, 0, 3, 4], [0, 12, 0, 0]),\\n        ([], []),\\n        ([5], [1]),\\n        ([2, 3, 2], [6, 4, 6]),\\n    ]\\n\\n    for input_list, expected in test_cases:\\n        result = calculate_products(input_list)\\n        print(f\\\"Input: {input_list} | Output: {result} | Expected: {expected}\\\")\\n        assert result == expected, f\\\"Test failed for input: {input_list}\\\"\\n\\n    print(\\\"All tests passed!\\\")\",\n",
      "      \"description\": \"This Python module defines the function calculate_products, which computes a new list such that each element is the product of all other elements in the input list. It correctly handles edge cases, including empty lists, single element lists, and lists containing zeros. The code includes detailed type hints, docstrings with examples, and error handling for invalid inputs. At the bottom, there is a simple test suite executed when the script is run directly.\"\n",
      "    }\n",
      "- 2 new item(s)\n",
      "- 1 raw response(s)\n",
      "- 0 input guardrail result(s)\n",
      "- 0 output guardrail result(s)\n",
      "(See `RunResult` for more details)\n",
      "------------------------------------------------------------------------------------------------------------------------------------------------------\n",
      "from typing import List\n",
      "\n",
      "\n",
      "def calculate_products(numbers: List[int]) -> List[int]:\n",
      "    \"\"\"\n",
      "    Given a list of integers, return a new list such that each element at index i is\n",
      "    the product of all numbers in the original list except the one at i.\n",
      "\n",
      "    Examples:\n",
      "    >>> calculate_products([1, 2, 3, 4])\n",
      "    [24, 12, 8, 6]\n",
      "\n",
      "    >>> calculate_products([1, 0, 3, 4])\n",
      "    [0, 12, 0, 0]\n",
      "\n",
      "    >>> calculate_products([])\n",
      "    []\n",
      "\n",
      "    >>> calculate_products([5])\n",
      "    [1]\n",
      "    \n",
      "    Args:\n",
      "        numbers (List[int]): List of integers.\n",
      "\n",
      "    Returns:\n",
      "        List[int]: A list where each element is the product of all numbers except the current index.\n",
      "\n",
      "    Raises:\n",
      "        TypeError: If input is not a list or if any element is not an integer.\n",
      "    \"\"\"\n",
      "    # Validate input\n",
      "    if not isinstance(numbers, list):\n",
      "        raise TypeError('Input must be a list of integers.')\n",
      "    \n",
      "    for num in numbers:\n",
      "        if not isinstance(num, int):\n",
      "            raise TypeError('All elements in the input list must be integers.')\n",
      "\n",
      "    n = len(numbers)\n",
      "    # For an empty list, simply return an empty list\n",
      "    if n == 0:\n",
      "        return []\n",
      "\n",
      "    # For a single element list, product of an empty set is defined as 1.\n",
      "    if n == 1:\n",
      "        return [1]\n",
      "\n",
      "    # Count zeros in the list\n",
      "    zero_count = numbers.count(0)\n",
      "\n",
      "    # If there are more than one zero, every product will be zero\n",
      "    if zero_count > 1:\n",
      "        return [0] * n\n",
      "\n",
      "    # If there is exactly one zero, compute product of non-zero numbers\n",
      "    if zero_count == 1:\n",
      "        product_non_zero = 1\n",
      "        for num in numbers:\n",
      "            if num != 0:\n",
      "                product_non_zero *= num\n",
      "        return [product_non_zero if num == 0 else 0 for num in numbers]\n",
      "\n",
      "    # If there are no zeros, compute the total product and then the result by dividing\n",
      "    total_product = 1\n",
      "    for num in numbers:\n",
      "        total_product *= num\n",
      "\n",
      "    # It is safe to use integer division because there is no zero element\n",
      "    return [total_product // num for num in numbers]\n",
      "\n",
      "\n",
      "if __name__ == '__main__':\n",
      "    # Some basic tests\n",
      "    test_cases = [\n",
      "        ([1, 2, 3, 4], [24, 12, 8, 6]),\n",
      "        ([1, 0, 3, 4], [0, 12, 0, 0]),\n",
      "        ([], []),\n",
      "        ([5], [1]),\n",
      "        ([2, 3, 2], [6, 4, 6]),\n",
      "    ]\n",
      "\n",
      "    for input_list, expected in test_cases:\n",
      "        result = calculate_products(input_list)\n",
      "        print(f\"Input: {input_list} | Output: {result} | Expected: {expected}\")\n",
      "        assert result == expected, f\"Test failed for input: {input_list}\"\n",
      "\n",
      "    print(\"All tests passed!\")\n"
     ]
    }
   ],
   "source": [
    "sol = await generate_solution()\n",
    "print(\"---\" * 50)\n",
    "print(sol)\n",
    "print(\"---\" * 50)\n",
    "print(sol.final_output.code)"
   ]
  },
  {
   "cell_type": "code",
   "execution_count": null,
   "metadata": {},
   "outputs": [],
   "source": []
  },
  {
   "cell_type": "code",
   "execution_count": null,
   "metadata": {},
   "outputs": [],
   "source": [
    "def test_solution(task_data: AgentTaskData, solution: CodeSolution) -> bool:\n",
    "    \"\"\"Test the code solution\"\"\"\n",
    "    return True"
   ]
  },
  {
   "cell_type": "code",
   "execution_count": 28,
   "metadata": {},
   "outputs": [],
   "source": [
    "def create_pr(solution: CodeSolution, branch, iterations) -> bool:\n",
    "    \"\"\"Create a pull request\"\"\"\n",
    "    try:\n",
    "        print('Creating PR ...')\n",
    "        #print('Solution : ', solution)\n",
    "        sol = solution.code\n",
    "        #print(sol)\n",
    "        local_repo = Repo(repo_dir)\n",
    "        print('Repo : ', local_repo)\n",
    "\n",
    "        # Local git operations\n",
    "        branch_name = f\"{branch}-agent-solution-{iterations}\"\n",
    "        current = local_repo.create_head(branch_name)\n",
    "        current.checkout()\n",
    "        with open(os.path.join(repo_dir, 'solution.py'), 'w') as f:\n",
    "            f.write(sol)\n",
    "        local_repo.index.add(['solution.py'])\n",
    "        local_repo.index.commit(\"Agent solution\")\n",
    "        local_repo.git.push('origin', branch_name)\n",
    "\n",
    "        # remote git \n",
    "        g = Github(github_token)\n",
    "        py_repo = g.get_repo('prazjain/genai-scratch-repo')\n",
    "\n",
    "        # Github operations to create PR\n",
    "        pr = py_repo.create_pull(\n",
    "            title=\"Add Array Products Calculator\",\n",
    "            body=f\"Implements array products calculator with the following approach:\\n\\n{solution.description}\",\n",
    "            base=branch,\n",
    "            head=branch_name\n",
    "        )\n",
    "        print(f\"Created PR: {pr.html_url}\")\n",
    "        return True\n",
    "    except Exception as e:\n",
    "        print(f\"Failed to create PR: {str(e)}\")\n",
    "        return False"
   ]
  },
  {
   "cell_type": "code",
   "execution_count": 29,
   "metadata": {},
   "outputs": [
    {
     "name": "stdout",
     "output_type": "stream",
     "text": [
      "Creating PR ...\n",
      "Repo :  <git.repo.base.Repo '/Users/Prashant/LOCAL/Data/github/python/openai-git-agent/agent-task/.git'>\n",
      "Created PR: https://github.com/prazjain/genai-scratch-repo/pull/1\n",
      "True\n"
     ]
    }
   ],
   "source": [
    "status = create_pr(sol.final_output, 'python/genai-agent-task', 1)\n",
    "print(status)"
   ]
  }
 ],
 "metadata": {
  "kernelspec": {
   "display_name": "venv",
   "language": "python",
   "name": "python3"
  },
  "language_info": {
   "codemirror_mode": {
    "name": "ipython",
    "version": 3
   },
   "file_extension": ".py",
   "mimetype": "text/x-python",
   "name": "python",
   "nbconvert_exporter": "python",
   "pygments_lexer": "ipython3",
   "version": "3.11.9"
  }
 },
 "nbformat": 4,
 "nbformat_minor": 2
}
